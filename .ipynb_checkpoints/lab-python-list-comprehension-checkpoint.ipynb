{
 "cells": [
  {
   "cell_type": "markdown",
   "id": "25d7736c-ba17-4aff-b6bb-66eba20fbf4e",
   "metadata": {},
   "source": [
    "# Lab | List, Dict and Set Comprehension"
   ]
  },
  {
   "cell_type": "markdown",
   "id": "7dd3cbde-675a-4b81-92c3-f728846dbe06",
   "metadata": {},
   "source": [
    "## Exercise: Managing Customer Orders Optimized with Comprehension"
   ]
  },
  {
   "cell_type": "markdown",
   "id": "5d500160-2fb7-4777-b5e4-09d45ebaf328",
   "metadata": {},
   "source": [
    "In the previous exercise, you developed a program to manage customer orders and inventory. Now, let's take it a step further and incorporate comprehension into your code.\n",
    "\n",
    "Follow the steps below to complete the exercise:\n",
    "\n",
    "1. Review your code from the previous exercise and identify areas where you can apply comprehension to simplify and streamline your code. \n",
    "\n",
    "    - *Hint: Apply it to initialize inventory, updating the inventory and printing the updated inventory.*\n",
    "    \n",
    "    - For example, in initializing the inventory, we could have:\n",
    "    \n",
    "        ```python\n",
    "        def initialize_inventory(products):\n",
    "            inventory = {product: int(input(f\"Enter the quantity of {product}s available: \")) for product in products}\n",
    "            return inventory\n",
    "\n",
    "        ```\n",
    "<br>\n",
    "    \n",
    "    \n",
    "2. Modify the function get_customer_orders so it prompts the user to enter the number of customer orders and gathers the product names using a loop and user input. Use comprehension.\n",
    "\n",
    "3. Add a new function to calculate the total price of the customer order. For each product in customer_orders, prompt the user to enter the price of that product. Use comprehension to calculate the total price. Note: assume that the user can only have 1 unit of each product.\n",
    "\n",
    "4. Modify the update_inventory function to remove the product from the inventory if its quantity becomes zero after fulfilling the customer orders. Use comprehension to filter out the products with a quantity of zero from the inventory.\n",
    "\n",
    "5. Print the total price of the customer order.\n",
    "\n",
    "Your code should produce output similar to the following:\n",
    "\n",
    "```python\n",
    "Enter the quantity of t-shirts available:  5\n",
    "Enter the quantity of mugs available:  4\n",
    "Enter the quantity of hats available:  3\n",
    "Enter the quantity of books available:  2\n",
    "Enter the quantity of keychains available:  1\n",
    "Enter the number of customer orders:  2\n",
    "Enter the name of a product that a customer wants to order:  hat\n",
    "Enter the name of a product that a customer wants to order:  keychain\n",
    "\n",
    "Order Statistics:\n",
    "Total Products Ordered: 2\n",
    "Percentage of Unique Products Ordered: 40.0\n",
    "\n",
    "Updated Inventory:\n",
    "t-shirt: 5\n",
    "mug: 4\n",
    "hat: 2\n",
    "book: 2\n",
    "Enter the price of keychain:  5\n",
    "Enter the price of hat:  10\n",
    "Total Price: 15.0\n",
    "\n",
    "```\n"
   ]
  },
  {
   "cell_type": "code",
   "execution_count": 1,
   "id": "0a5d6c7b-7d12-4da3-ab0c-b2d5b05edbe5",
   "metadata": {},
   "outputs": [
    {
     "name": "stdin",
     "output_type": "stream",
     "text": [
      "Enter the quantity of mugs available:  8\n",
      "Enter the quantity of books available:  8\n",
      "Enter the quantity of hats available:  8\n",
      "Enter the quantity of tshirts available:  8\n",
      "Enter the quantity of keychains available:  8\n"
     ]
    },
    {
     "name": "stdout",
     "output_type": "stream",
     "text": [
      "\n"
     ]
    },
    {
     "data": {
      "text/plain": [
       "{'mug': 8, 'book': 8, 'hat': 8, 'tshirt': 8, 'keychain': 8}"
      ]
     },
     "execution_count": 1,
     "metadata": {},
     "output_type": "execute_result"
    }
   ],
   "source": [
    "#1 EXAMPLE ABOVE\n",
    "products = [\"mug\", \"book\", \"hat\", \"tshirt\", \"keychain\"]\n",
    "\n",
    "def initialize_inventory(products):\n",
    "    inventory = {product: int(input(f\"Enter the quantity of {product}s available: \")) for product in products}\n",
    "    return inventory\n",
    "\n",
    "\n",
    "inventory = initialize_inventory(products)\n",
    "print(\"\") #white line\n",
    "inventory"
   ]
  },
  {
   "cell_type": "code",
   "execution_count": 2,
   "id": "dc1c23a6-eddb-4dd1-ad7b-d2d5c312b666",
   "metadata": {},
   "outputs": [],
   "source": [
    "# 2. Modify the function get_customer_orders so it prompts the user to enter the number of customer orders \n",
    "# and gathers the product names using a loop and user input. Use comprehension.\n",
    "def get_customer_orders():\n",
    "    \"\"\"First we have to know how many products the user wants to order\"\"\"\n",
    "    amount_ordered = int(input(\"Please enter the amount of products you would like to buy: \"))\n",
    "    \n",
    "    \"\"\"With comprehension: user input to know what are the exact products they want to buy\"\"\"\n",
    "    customer_orders = {input(f\"What is the product number {i+1}?: \") for i in range(amount_ordered)}\n",
    "    \n",
    "    return customer_orders"
   ]
  },
  {
   "cell_type": "code",
   "execution_count": 3,
   "id": "a57c1a47-6e43-4f0f-ba5c-1773f2e0ca95",
   "metadata": {},
   "outputs": [
    {
     "name": "stdin",
     "output_type": "stream",
     "text": [
      "Please enter the amount of products you would like to buy:  2\n",
      "What is the product number 1?:  hat\n",
      "What is the product number 2?:  book\n"
     ]
    }
   ],
   "source": [
    "customer_orders = list(get_customer_orders())"
   ]
  },
  {
   "cell_type": "code",
   "execution_count": 4,
   "id": "be3f542e-b9a2-4522-99ef-c4a993440415",
   "metadata": {},
   "outputs": [],
   "source": [
    "#opt1\n",
    "def total_price(customer_orders):\n",
    "    price = [int(input(f\"What is the price for product {i}?:\")) for i in customer_orders]\n",
    "    print(\"The price is: \", sum(price))"
   ]
  },
  {
   "cell_type": "code",
   "execution_count": 5,
   "id": "7a74c26b-e52a-4532-9923-731533229201",
   "metadata": {
    "scrolled": true
   },
   "outputs": [
    {
     "name": "stdin",
     "output_type": "stream",
     "text": [
      "What is the price for product book?: 7\n",
      "What is the price for product hat?: 5\n"
     ]
    },
    {
     "name": "stdout",
     "output_type": "stream",
     "text": [
      "The price is:  12\n"
     ]
    },
    {
     "ename": "TypeError",
     "evalue": "'NoneType' object is not iterable",
     "output_type": "error",
     "traceback": [
      "\u001b[0;31m---------------------------------------------------------------------------\u001b[0m",
      "\u001b[0;31mTypeError\u001b[0m                                 Traceback (most recent call last)",
      "Cell \u001b[0;32mIn[5], line 1\u001b[0m\n\u001b[0;32m----> 1\u001b[0m list_price \u001b[38;5;241m=\u001b[39m \u001b[38;5;28mlist\u001b[39m(total_price(customer_orders))\n",
      "\u001b[0;31mTypeError\u001b[0m: 'NoneType' object is not iterable"
     ]
    }
   ],
   "source": [
    "list_price = list(total_price(customer_orders))"
   ]
  },
  {
   "cell_type": "code",
   "execution_count": 6,
   "id": "04f5dc9a-f3f2-4f0d-8b99-a3a093c5e166",
   "metadata": {},
   "outputs": [
    {
     "name": "stdin",
     "output_type": "stream",
     "text": [
      "What is the price for product book?: 5\n",
      "What is the price for product hat?: 4\n"
     ]
    },
    {
     "name": "stdout",
     "output_type": "stream",
     "text": [
      "Total price is: 9\n"
     ]
    }
   ],
   "source": [
    "#opt2:\n",
    "def total_price(customer_orders):\n",
    "    price = sum([int(input(f\"What is the price for product {i}?:\")) for i in customer_orders])\n",
    "    return (\"Total price is: \" + str(price))\n",
    "T_price = total_price(customer_orders)\n",
    "print(T_price)"
   ]
  },
  {
   "cell_type": "code",
   "execution_count": 7,
   "id": "aa41de1a-eccc-47df-bbc0-ae32788549cd",
   "metadata": {},
   "outputs": [],
   "source": [
    "# 4. With comprehension I didn't manage to make it work\n",
    "def update_inventory (customer_orders, inventory):\n",
    "    inventory = [inventory[customer_orders] - 1 for i in customer_orders]\n",
    "    return inventory"
   ]
  },
  {
   "cell_type": "code",
   "execution_count": 8,
   "id": "63eeea8b-6da6-4d0b-bb8d-95df7a84f5ff",
   "metadata": {},
   "outputs": [
    {
     "ename": "TypeError",
     "evalue": "unhashable type: 'list'",
     "output_type": "error",
     "traceback": [
      "\u001b[0;31m---------------------------------------------------------------------------\u001b[0m",
      "\u001b[0;31mTypeError\u001b[0m                                 Traceback (most recent call last)",
      "Cell \u001b[0;32mIn[8], line 1\u001b[0m\n\u001b[0;32m----> 1\u001b[0m update_inventory(customer_orders, inventory)\n",
      "Cell \u001b[0;32mIn[7], line 3\u001b[0m, in \u001b[0;36mupdate_inventory\u001b[0;34m(customer_orders, inventory)\u001b[0m\n\u001b[1;32m      2\u001b[0m \u001b[38;5;28;01mdef\u001b[39;00m \u001b[38;5;21mupdate_inventory\u001b[39m (customer_orders, inventory):\n\u001b[0;32m----> 3\u001b[0m     inventory \u001b[38;5;241m=\u001b[39m [inventory[customer_orders] \u001b[38;5;241m-\u001b[39m \u001b[38;5;241m1\u001b[39m \u001b[38;5;28;01mfor\u001b[39;00m i \u001b[38;5;129;01min\u001b[39;00m customer_orders]\n\u001b[1;32m      4\u001b[0m     \u001b[38;5;28;01mreturn\u001b[39;00m inventory\n",
      "Cell \u001b[0;32mIn[7], line 3\u001b[0m, in \u001b[0;36m<listcomp>\u001b[0;34m(.0)\u001b[0m\n\u001b[1;32m      2\u001b[0m \u001b[38;5;28;01mdef\u001b[39;00m \u001b[38;5;21mupdate_inventory\u001b[39m (customer_orders, inventory):\n\u001b[0;32m----> 3\u001b[0m     inventory \u001b[38;5;241m=\u001b[39m [inventory[customer_orders] \u001b[38;5;241m-\u001b[39m \u001b[38;5;241m1\u001b[39m \u001b[38;5;28;01mfor\u001b[39;00m i \u001b[38;5;129;01min\u001b[39;00m customer_orders]\n\u001b[1;32m      4\u001b[0m     \u001b[38;5;28;01mreturn\u001b[39;00m inventory\n",
      "\u001b[0;31mTypeError\u001b[0m: unhashable type: 'list'"
     ]
    }
   ],
   "source": [
    "update_inventory(customer_orders, inventory)"
   ]
  },
  {
   "cell_type": "code",
   "execution_count": 9,
   "id": "d76404ee-6073-45d3-8f0e-e6fa5e79b41a",
   "metadata": {},
   "outputs": [],
   "source": [
    "#4. This does work but has no comprehension\n",
    "def update_inventory2 (customer_orders, inventory):\n",
    "    \n",
    "    for order in customer_orders:\n",
    "            inventory[order]-=1\n",
    "    \n",
    "    return inventory"
   ]
  },
  {
   "cell_type": "code",
   "execution_count": 10,
   "id": "aafa055f-0937-4ef7-899f-cb60d8f0eda1",
   "metadata": {},
   "outputs": [
    {
     "data": {
      "text/plain": [
       "{'mug': 8, 'book': 7, 'hat': 7, 'tshirt': 8, 'keychain': 8}"
      ]
     },
     "execution_count": 10,
     "metadata": {},
     "output_type": "execute_result"
    }
   ],
   "source": [
    "update_inventory2(customer_orders, inventory)"
   ]
  },
  {
   "cell_type": "code",
   "execution_count": 11,
   "id": "48625d9c-7e8b-4a03-b043-7479b2bb5c56",
   "metadata": {},
   "outputs": [
    {
     "name": "stdout",
     "output_type": "stream",
     "text": [
      "Total price is: 9\n"
     ]
    }
   ],
   "source": [
    "print(T_price)"
   ]
  },
  {
   "cell_type": "code",
   "execution_count": null,
   "id": "d4244306-f584-4707-aaca-d8b4d8fa5fb2",
   "metadata": {},
   "outputs": [],
   "source": []
  }
 ],
 "metadata": {
  "kernelspec": {
   "display_name": "Python 3 (ipykernel)",
   "language": "python",
   "name": "python3"
  },
  "language_info": {
   "codemirror_mode": {
    "name": "ipython",
    "version": 3
   },
   "file_extension": ".py",
   "mimetype": "text/x-python",
   "name": "python",
   "nbconvert_exporter": "python",
   "pygments_lexer": "ipython3",
   "version": "3.11.7"
  }
 },
 "nbformat": 4,
 "nbformat_minor": 5
}
